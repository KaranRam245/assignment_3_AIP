{
  "nbformat": 4,
  "nbformat_minor": 0,
  "metadata": {
    "colab": {
      "name": "AIP_ML_2_Radiomics.ipynb",
      "provenance": [],
      "collapsed_sections": []
    },
    "kernelspec": {
      "name": "python3",
      "display_name": "Python 3"
    }
  },
  "cells": [
    {
      "cell_type": "markdown",
      "metadata": {
        "id": "DOnsswStILue"
      },
      "source": [
        "# Advanced Image Processing (TM11005)\r\n",
        "*Week 3: Machine learning and Pattern Recognition\r\n",
        "Exercise 2, Lecture 3: Radiomics*\r\n",
        "\r\n",
        "@author: Martijn Starmans\r\n",
        "\r\n",
        "In this exercise, you will learn all about radiomics. The following\r\n",
        "methods steps be covered:\r\n",
        "- Data Collection\r\n",
        "- Preprocessing\r\n",
        "- Segmentation\r\n",
        "- Feature extraction\r\n",
        "- Machine learning\r\n",
        "- Evaluation\r\n",
        "\r\n",
        "\r\n",
        "## DATA\r\n",
        "We will make use of the following data sets:\r\n",
        "\r\n",
        "- Toy samples from sklearn: see\r\n",
        "  http://scikit-learn.org/stable/datasets/index.html for more information\r\n",
        "  on the datasets.\r\n",
        "- MR scans of patients with Low Grade Glioma (LGG) from\r\n",
        "  https://wiki.cancerimagingarchive.net/display/Public/LGG-1p19qDeletion and\r\n",
        "  segmentations from https://data.mendeley.com/datasets/rssf5nxxby/1, used\r\n",
        "  in these papers: https://arxiv.org/pdf/1611.06939.pdf, \r\n",
        "  https://clincancerres.aacrjournals.org/content/25/24/7455.abstract\r\n",
        "\r\n",
        "\r\n",
        "Description:\r\n",
        "    Low Grade Glioma's (LGGs) are a specific group of cancerous brain tumors.\r\n",
        "    Research has shown that patients with a specific genetic mutation, the\r\n",
        "    1p/19q co-deletion, have a better survival and prognosis than patients\r\n",
        "    who do not have this mutation.\r\n",
        "\r\n",
        "The genetic status of a patient can only\r\n",
        "    be obtained after taking a biopsy, followed by genetic sequencing. This\r\n",
        "    procedure is invasive, brings risks to the patients and relatively high\r\n",
        "    in costs.\r\n",
        "\r\n",
        "There is therefore a major interest in trying to predict the 1p19q status\r\n",
        "    solely based on MR scans. You are also going to try this the coming week.\r\n",
        "\r\n",
        "This dataset consists of two MR scans per patiet (T1 and T2) plus a\r\n",
        "    segmentation of the three middle slices of the tumor on the T2.\r\n",
        "\r\n",
        "## Important Note\r\n",
        "We will use the word \"labels\" in two contexts.\r\n",
        "\r\n",
        "Each feature has a specific name, for example histogram_mean. We will refer\r\n",
        "to the names of features as feature_labels.\r\n",
        "\r\n",
        "We will encounter several datasets with various objects. These objects often\r\n",
        "corresponds with patients, e.g. the dataset with brain MRI scans from various\r\n",
        "patients. These patients also have \"labels\": these correspond to the class the\r\n",
        "objects belongs to. For example, for the LGG dataset, each patient has the\r\n",
        "label 0 or 1, indicating whether they have the 1p/19q co-deletion or not."
      ]
    },
    {
      "cell_type": "markdown",
      "metadata": {
        "id": "tTTQzu6-IlHQ"
      },
      "source": [
        "## **Handing in your answers**\r\n",
        "For each exercise, you have to hand in answers to questions, and\r\n",
        "for some also the code. Hence please only hand in two files in total\r\n",
        "for this exercise set:\r\n",
        "\r\n",
        "- Code.py (or .docx): a Python script / Text file containing all the code you are requested to hand in.\r\n",
        "- Answers.docx (or .PDF): a text file with the answers to the\r\n",
        "questions (plots, text, ...).\r\n",
        "\r\n",
        "**Important Note:** Exercises 1, 2, 4, 6, and 7 are mandatory, plus exercise 3 OR exercise 5. In the later questions, if you decide to skip exercise 3, you can skip the parts related to that exercise, and similar for exercise 5."
      ]
    },
    {
      "cell_type": "markdown",
      "metadata": {
        "id": "C2hxkpx4due0"
      },
      "source": [
        "## Start"
      ]
    },
    {
      "cell_type": "code",
      "metadata": {
        "colab": {
          "base_uri": "https://localhost:8080/"
        },
        "id": "yIqX7QV_JIn7",
        "outputId": "3efac869-6191-4130-9562-e78ae5bab2eb"
      },
      "source": [
        "# Let's first install the neccesary packages\r\n",
        "!pip install numpy pandas SimpleITK scikit-image natsort scikit-learn seaborn PREDICT matplotlib\r\n",
        "\r\n",
        "# NOTE: if you get an error when installing PREDICT concerning pywavelets,\r\n",
        "# you can just negate it\r\n",
        "\r\n",
        "# Install the toolbox we made for this course\r\n",
        "!pip install -q --upgrade git+https://github.com/MStarmans91/aiptoolbox.git"
      ],
      "execution_count": 1,
      "outputs": [
        {
          "output_type": "stream",
          "text": [
            "Requirement already satisfied: numpy in /usr/local/lib/python3.7/dist-packages (1.19.5)\n",
            "Requirement already satisfied: pandas in /usr/local/lib/python3.7/dist-packages (1.1.5)\n",
            "Collecting SimpleITK\n",
            "\u001b[?25l  Downloading https://files.pythonhosted.org/packages/9c/6b/85df5eb3a8059b23a53a9f224476e75473f9bcc0a8583ed1a9c34619f372/SimpleITK-2.0.2-cp37-cp37m-manylinux2010_x86_64.whl (47.4MB)\n",
            "\u001b[K     |████████████████████████████████| 47.4MB 86kB/s \n",
            "\u001b[?25hRequirement already satisfied: scikit-image in /usr/local/lib/python3.7/dist-packages (0.16.2)\n",
            "Requirement already satisfied: natsort in /usr/local/lib/python3.7/dist-packages (5.5.0)\n",
            "Requirement already satisfied: scikit-learn in /usr/local/lib/python3.7/dist-packages (0.22.2.post1)\n",
            "Requirement already satisfied: seaborn in /usr/local/lib/python3.7/dist-packages (0.11.1)\n",
            "Collecting PREDICT\n",
            "\u001b[?25l  Downloading https://files.pythonhosted.org/packages/7f/f4/a3795820e1663b632ffa129db9d8b867691f62678b1f5fe7f7ca33f32736/PREDICT-3.1.13-py3-none-any.whl (57kB)\n",
            "\u001b[K     |████████████████████████████████| 61kB 8.3MB/s \n",
            "\u001b[?25hRequirement already satisfied: matplotlib in /usr/local/lib/python3.7/dist-packages (3.2.2)\n",
            "Requirement already satisfied: pytz>=2017.2 in /usr/local/lib/python3.7/dist-packages (from pandas) (2018.9)\n",
            "Requirement already satisfied: python-dateutil>=2.7.3 in /usr/local/lib/python3.7/dist-packages (from pandas) (2.8.1)\n",
            "Requirement already satisfied: scipy>=0.19.0 in /usr/local/lib/python3.7/dist-packages (from scikit-image) (1.4.1)\n",
            "Requirement already satisfied: imageio>=2.3.0 in /usr/local/lib/python3.7/dist-packages (from scikit-image) (2.4.1)\n",
            "Requirement already satisfied: pillow>=4.3.0 in /usr/local/lib/python3.7/dist-packages (from scikit-image) (7.0.0)\n",
            "Requirement already satisfied: networkx>=2.0 in /usr/local/lib/python3.7/dist-packages (from scikit-image) (2.5)\n",
            "Requirement already satisfied: PyWavelets>=0.4.0 in /usr/local/lib/python3.7/dist-packages (from scikit-image) (1.1.1)\n",
            "Requirement already satisfied: joblib>=0.11 in /usr/local/lib/python3.7/dist-packages (from scikit-learn) (1.0.1)\n",
            "Collecting tables>=3.5.1\n",
            "\u001b[?25l  Downloading https://files.pythonhosted.org/packages/0f/cb/4097be890a773af95343389faa8c283b0d9ff606f144227a548461dcbdd5/tables-3.6.1-cp37-cp37m-manylinux1_x86_64.whl (4.3MB)\n",
            "\u001b[K     |████████████████████████████████| 4.3MB 28.3MB/s \n",
            "\u001b[?25hCollecting phasepack>=1.5\n",
            "  Downloading https://files.pythonhosted.org/packages/7d/ec/b52bc331f9e69cbf3c2c367c531176b45185741bd9f516ef82b64e7fbe9f/phasepack-1.5.tar.gz\n",
            "Collecting configparser>=3.7.4\n",
            "  Downloading https://files.pythonhosted.org/packages/08/b2/ef713e0e67f6e7ec7d59aea3ee78d05b39c15930057e724cc6d362a8c3bb/configparser-5.0.1-py3-none-any.whl\n",
            "Collecting pyradiomics>=3.0\n",
            "\u001b[?25l  Downloading https://files.pythonhosted.org/packages/8c/03/694a45860268a3b96c9a8b88f7064d959d383332c7d7adb4a72a49035ac2/pyradiomics-3.0.1-cp37-cp37m-manylinux1_x86_64.whl (188kB)\n",
            "\u001b[K     |████████████████████████████████| 194kB 53.9MB/s \n",
            "\u001b[?25hCollecting pydicom>=1.2.2\n",
            "\u001b[?25l  Downloading https://files.pythonhosted.org/packages/f4/15/df16546bc59bfca390cf072d473fb2c8acd4231636f64356593a63137e55/pydicom-2.1.2-py3-none-any.whl (1.9MB)\n",
            "\u001b[K     |████████████████████████████████| 1.9MB 47.4MB/s \n",
            "\u001b[?25hRequirement already satisfied: cycler>=0.10 in /usr/local/lib/python3.7/dist-packages (from matplotlib) (0.10.0)\n",
            "Requirement already satisfied: kiwisolver>=1.0.1 in /usr/local/lib/python3.7/dist-packages (from matplotlib) (1.3.1)\n",
            "Requirement already satisfied: pyparsing!=2.0.4,!=2.1.2,!=2.1.6,>=2.0.1 in /usr/local/lib/python3.7/dist-packages (from matplotlib) (2.4.7)\n",
            "Requirement already satisfied: six>=1.5 in /usr/local/lib/python3.7/dist-packages (from python-dateutil>=2.7.3->pandas) (1.15.0)\n",
            "Requirement already satisfied: decorator>=4.3.0 in /usr/local/lib/python3.7/dist-packages (from networkx>=2.0->scikit-image) (4.4.2)\n",
            "Requirement already satisfied: numexpr>=2.6.2 in /usr/local/lib/python3.7/dist-packages (from tables>=3.5.1->PREDICT) (2.7.2)\n",
            "Collecting pykwalify>=1.6.0\n",
            "  Downloading https://files.pythonhosted.org/packages/1f/fd/ac2161cce19fd67a18c269073f8e86292b5511acec6f8ef6eab88615d032/pykwalify-1.8.0-py2.py3-none-any.whl\n",
            "Requirement already satisfied: docopt>=0.6.2 in /usr/local/lib/python3.7/dist-packages (from pykwalify>=1.6.0->pyradiomics>=3.0->PREDICT) (0.6.2)\n",
            "Collecting ruamel.yaml>=0.16.0\n",
            "\u001b[?25l  Downloading https://files.pythonhosted.org/packages/7e/39/186f14f3836ac5d2a6a042c8de69988770e8b9abb537610edc429e4914aa/ruamel.yaml-0.16.12-py2.py3-none-any.whl (111kB)\n",
            "\u001b[K     |████████████████████████████████| 112kB 53.9MB/s \n",
            "\u001b[?25hCollecting ruamel.yaml.clib>=0.1.2; platform_python_implementation == \"CPython\" and python_version < \"3.9\"\n",
            "\u001b[?25l  Downloading https://files.pythonhosted.org/packages/5e/6e/f652c56bbb2c3d3fca252ffc7c0358597f57a1bbdf484dac683054950c63/ruamel.yaml.clib-0.2.2-cp37-cp37m-manylinux1_x86_64.whl (547kB)\n",
            "\u001b[K     |████████████████████████████████| 552kB 47.8MB/s \n",
            "\u001b[?25hBuilding wheels for collected packages: phasepack\n",
            "  Building wheel for phasepack (setup.py) ... \u001b[?25l\u001b[?25hdone\n",
            "  Created wheel for phasepack: filename=phasepack-1.5-cp37-none-any.whl size=26983 sha256=82addd4f827819729aa2b33f71cfbf994997d929763fc3095a444b8d72aa8117\n",
            "  Stored in directory: /root/.cache/pip/wheels/70/b3/0a/eba59071a075d1192016960030f2b52751f23adfb260a3db93\n",
            "Successfully built phasepack\n",
            "\u001b[31mERROR: predict 3.1.13 has requirement PyWavelets<=1.0.0,>=0.4.0, but you'll have pywavelets 1.1.1 which is incompatible.\u001b[0m\n",
            "Installing collected packages: SimpleITK, tables, phasepack, configparser, ruamel.yaml.clib, ruamel.yaml, pykwalify, pyradiomics, pydicom, PREDICT\n",
            "  Found existing installation: tables 3.4.4\n",
            "    Uninstalling tables-3.4.4:\n",
            "      Successfully uninstalled tables-3.4.4\n",
            "Successfully installed PREDICT-3.1.13 SimpleITK-2.0.2 configparser-5.0.1 phasepack-1.5 pydicom-2.1.2 pykwalify-1.8.0 pyradiomics-3.0.1 ruamel.yaml-0.16.12 ruamel.yaml.clib-0.2.2 tables-3.6.1\n",
            "  Building wheel for aip (setup.py) ... \u001b[?25l\u001b[?25hdone\n"
          ],
          "name": "stdout"
        }
      ]
    },
    {
      "cell_type": "code",
      "metadata": {
        "id": "SOLF-9FcGcjt"
      },
      "source": [
        "# Again, we start by importing all neccesary packages\r\n",
        "import numpy as np\r\n",
        "import matplotlib.pyplot as plt\r\n",
        "from sklearn import datasets as ds\r\n",
        "import SimpleITK as sitk\r\n",
        "import glob\r\n",
        "import os\r\n",
        "import pydicom\r\n",
        "import pandas as pd\r\n",
        "\r\n",
        "# Feature selection\r\n",
        "from aip.StatisticalTestThreshold import StatisticalTestThreshold\r\n",
        "\r\n",
        "# Feature extraction\r\n",
        "from PREDICT.imagefeatures.histogram_features import get_histogram_features\r\n",
        "from PREDICT.imagefeatures.shape_features import get_shape_features\r\n",
        "from PREDICT.imagefeatures.texture_features import get_LBP_features, get_GLCM_features,\\\r\n",
        "    gabor_filter_parallel\r\n",
        "from PREDICT.helpers import image_helper as ih\r\n",
        "\r\n",
        "# Machine learning: minimum distance classifier is called NearestCentroid in sklearn\r\n",
        "from sklearn.neighbors import NearestCentroid as MinimumDistance\r\n",
        "from sklearn.model_selection import KFold,train_test_split\r\n",
        "from sklearn.preprocessing import StandardScaler\r\n",
        "\r\n",
        "# The AIP package\r\n",
        "import aip"
      ],
      "execution_count": 47,
      "outputs": []
    },
    {
      "cell_type": "markdown",
      "metadata": {
        "id": "xbUgGNDEJWJW"
      },
      "source": [
        "## 1. Data Collection\r\n",
        "We will use the LGG dataset for this exercise as well. We have already\r\n",
        "downloaded a subset of 30 patients, which can de found in the Data folder.\r\n",
        "Upon receiving a dataset, your first step should always be to analyze it\r\n",
        "and get an idea of what the various parameters (e.g. acquisition paramaters)\r\n",
        "in your dataset are.\r\n",
        "\r\n",
        "Normally, imaging data comes in the DICOM (.dcm) format. All the scanner\r\n",
        "parameters are stored in there. However, DICOM can be very inconvenient to\r\n",
        "work with: each slice is in a different file, plus all the parameters cost\r\n",
        "a lot of memory. Hence, in image processing, we always convert the DICOMs to\r\n",
        "a more convenient format such as Nifti (.nii or .nii.gz). This we already\r\n",
        "did for you.\r\n",
        "\r\n",
        "For each patient, you should have the following files:\r\n",
        "- A Nifti with the T1 Scan\r\n",
        "- A Nifti with the T2 Scan, already registered with the T1\r\n",
        "- A single DICOM file belonging to the first slice of the T1 scan\r\n",
        "- A single DICOM file belonging to the first slice of the T2 scan\r\n",
        "- A segmentation of the brain\r\n",
        "- A segmentation of the three tumor slices in the middle of the tumor, according to the paper of Akkus et al. 2016\r\n",
        "- A segmentation of the full tumor, according to van der Voort et al. 2019\r\n"
      ]
    },
    {
      "cell_type": "code",
      "metadata": {
        "colab": {
          "base_uri": "https://localhost:8080/"
        },
        "id": "5ofWeGBeJgKm",
        "outputId": "7a08bc26-510f-448f-fa4a-1231313aab37"
      },
      "source": [
        "# Get an overview of the full LGG dataset and the labels\r\n",
        "LGG_data, LGG_labels = aip.list_data()\r\n",
        "\r\n",
        "patient_ids = LGG_data.keys()\r\n",
        "for pid in patient_ids:\r\n",
        "    print(f'{pid}: {LGG_data[pid]}.')\r\n",
        "\r\n",
        "print(LGG_labels)"
      ],
      "execution_count": 3,
      "outputs": [
        {
          "output_type": "stream",
          "text": [
            "LGG-104: {'T1_image': '/usr/local/lib/python3.7/dist-packages/aip/data/LGG-104/T1.nii.gz', 'T2_image': '/usr/local/lib/python3.7/dist-packages/aip/data/LGG-104/T2.nii.gz', 'Segmentation_full': '/usr/local/lib/python3.7/dist-packages/aip/data/LGG-104/Full_segmentation.nii.gz', 'Segmentation_slices': '/usr/local/lib/python3.7/dist-packages/aip/data/LGG-104/Segmentation.nii.gz', 'T1_metadata': '/usr/local/lib/python3.7/dist-packages/aip/data/LGG-104/00000_T1.dcm', 'T2_metadata': '/usr/local/lib/python3.7/dist-packages/aip/data/LGG-104/00000_T2.dcm'}.\n",
            "LGG-246: {'T1_image': '/usr/local/lib/python3.7/dist-packages/aip/data/LGG-246/T1.nii.gz', 'T2_image': '/usr/local/lib/python3.7/dist-packages/aip/data/LGG-246/T2.nii.gz', 'Segmentation_full': '/usr/local/lib/python3.7/dist-packages/aip/data/LGG-246/Full_segmentation.nii.gz', 'Segmentation_slices': '/usr/local/lib/python3.7/dist-packages/aip/data/LGG-246/Segmentation.nii.gz', 'T1_metadata': '/usr/local/lib/python3.7/dist-packages/aip/data/LGG-246/00000_T1.dcm', 'T2_metadata': '/usr/local/lib/python3.7/dist-packages/aip/data/LGG-246/00000_T2.dcm'}.\n",
            "LGG-261: {'T1_image': '/usr/local/lib/python3.7/dist-packages/aip/data/LGG-261/T1.nii.gz', 'T2_image': '/usr/local/lib/python3.7/dist-packages/aip/data/LGG-261/T2.nii.gz', 'Segmentation_full': '/usr/local/lib/python3.7/dist-packages/aip/data/LGG-261/Full_segmentation.nii.gz', 'Segmentation_slices': '/usr/local/lib/python3.7/dist-packages/aip/data/LGG-261/Segmentation.nii.gz', 'T1_metadata': '/usr/local/lib/python3.7/dist-packages/aip/data/LGG-261/00000_T1.dcm', 'T2_metadata': '/usr/local/lib/python3.7/dist-packages/aip/data/LGG-261/00000_T2.dcm'}.\n",
            "LGG-273: {'T1_image': '/usr/local/lib/python3.7/dist-packages/aip/data/LGG-273/T1.nii.gz', 'T2_image': '/usr/local/lib/python3.7/dist-packages/aip/data/LGG-273/T2.nii.gz', 'Segmentation_full': '/usr/local/lib/python3.7/dist-packages/aip/data/LGG-273/Full_segmentation.nii.gz', 'Segmentation_slices': '/usr/local/lib/python3.7/dist-packages/aip/data/LGG-273/Segmentation.nii.gz', 'T1_metadata': '/usr/local/lib/python3.7/dist-packages/aip/data/LGG-273/00000_T1.dcm', 'T2_metadata': '/usr/local/lib/python3.7/dist-packages/aip/data/LGG-273/00000_T2.dcm'}.\n",
            "LGG-274: {'T1_image': '/usr/local/lib/python3.7/dist-packages/aip/data/LGG-274/T1.nii.gz', 'T2_image': '/usr/local/lib/python3.7/dist-packages/aip/data/LGG-274/T2.nii.gz', 'Segmentation_full': '/usr/local/lib/python3.7/dist-packages/aip/data/LGG-274/Full_segmentation.nii.gz', 'Segmentation_slices': '/usr/local/lib/python3.7/dist-packages/aip/data/LGG-274/Segmentation.nii.gz', 'T1_metadata': '/usr/local/lib/python3.7/dist-packages/aip/data/LGG-274/00000_T1.dcm', 'T2_metadata': '/usr/local/lib/python3.7/dist-packages/aip/data/LGG-274/00000_T2.dcm'}.\n",
            "LGG-278: {'T1_image': '/usr/local/lib/python3.7/dist-packages/aip/data/LGG-278/T1.nii.gz', 'T2_image': '/usr/local/lib/python3.7/dist-packages/aip/data/LGG-278/T2.nii.gz', 'Segmentation_full': '/usr/local/lib/python3.7/dist-packages/aip/data/LGG-278/Full_segmentation.nii.gz', 'Segmentation_slices': '/usr/local/lib/python3.7/dist-packages/aip/data/LGG-278/Segmentation.nii.gz', 'T1_metadata': '/usr/local/lib/python3.7/dist-packages/aip/data/LGG-278/00000_T1.dcm', 'T2_metadata': '/usr/local/lib/python3.7/dist-packages/aip/data/LGG-278/00000_T2.dcm'}.\n",
            "LGG-285: {'T1_image': '/usr/local/lib/python3.7/dist-packages/aip/data/LGG-285/T1.nii.gz', 'T2_image': '/usr/local/lib/python3.7/dist-packages/aip/data/LGG-285/T2.nii.gz', 'Segmentation_full': '/usr/local/lib/python3.7/dist-packages/aip/data/LGG-285/Full_segmentation.nii.gz', 'Segmentation_slices': '/usr/local/lib/python3.7/dist-packages/aip/data/LGG-285/Segmentation.nii.gz', 'T1_metadata': '/usr/local/lib/python3.7/dist-packages/aip/data/LGG-285/00000_T1.dcm', 'T2_metadata': '/usr/local/lib/python3.7/dist-packages/aip/data/LGG-285/00000_T2.dcm'}.\n",
            "LGG-286: {'T1_image': '/usr/local/lib/python3.7/dist-packages/aip/data/LGG-286/T1.nii.gz', 'T2_image': '/usr/local/lib/python3.7/dist-packages/aip/data/LGG-286/T2.nii.gz', 'Segmentation_full': '/usr/local/lib/python3.7/dist-packages/aip/data/LGG-286/Full_segmentation.nii.gz', 'Segmentation_slices': '/usr/local/lib/python3.7/dist-packages/aip/data/LGG-286/Segmentation.nii.gz', 'T1_metadata': '/usr/local/lib/python3.7/dist-packages/aip/data/LGG-286/00000_T1.dcm', 'T2_metadata': '/usr/local/lib/python3.7/dist-packages/aip/data/LGG-286/00000_T2.dcm'}.\n",
            "LGG-293: {'T1_image': '/usr/local/lib/python3.7/dist-packages/aip/data/LGG-293/T1.nii.gz', 'T2_image': '/usr/local/lib/python3.7/dist-packages/aip/data/LGG-293/T2.nii.gz', 'Segmentation_full': '/usr/local/lib/python3.7/dist-packages/aip/data/LGG-293/Full_segmentation.nii.gz', 'Segmentation_slices': '/usr/local/lib/python3.7/dist-packages/aip/data/LGG-293/Segmentation.nii.gz', 'T1_metadata': '/usr/local/lib/python3.7/dist-packages/aip/data/LGG-293/00000_T1.dcm', 'T2_metadata': '/usr/local/lib/python3.7/dist-packages/aip/data/LGG-293/00000_T2.dcm'}.\n",
            "LGG-297: {'T1_image': '/usr/local/lib/python3.7/dist-packages/aip/data/LGG-297/T1.nii.gz', 'T2_image': '/usr/local/lib/python3.7/dist-packages/aip/data/LGG-297/T2.nii.gz', 'Segmentation_full': '/usr/local/lib/python3.7/dist-packages/aip/data/LGG-297/Full_segmentation.nii.gz', 'Segmentation_slices': '/usr/local/lib/python3.7/dist-packages/aip/data/LGG-297/Segmentation.nii.gz', 'T1_metadata': '/usr/local/lib/python3.7/dist-packages/aip/data/LGG-297/00000_T1.dcm', 'T2_metadata': '/usr/local/lib/python3.7/dist-packages/aip/data/LGG-297/00000_T2.dcm'}.\n",
            "LGG-311: {'T1_image': '/usr/local/lib/python3.7/dist-packages/aip/data/LGG-311/T1.nii.gz', 'T2_image': '/usr/local/lib/python3.7/dist-packages/aip/data/LGG-311/T2.nii.gz', 'Segmentation_full': '/usr/local/lib/python3.7/dist-packages/aip/data/LGG-311/Full_segmentation.nii.gz', 'Segmentation_slices': '/usr/local/lib/python3.7/dist-packages/aip/data/LGG-311/Segmentation.nii.gz', 'T1_metadata': '/usr/local/lib/python3.7/dist-packages/aip/data/LGG-311/00000_T1.dcm', 'T2_metadata': '/usr/local/lib/python3.7/dist-packages/aip/data/LGG-311/00000_T2.dcm'}.\n",
            "LGG-326: {'T1_image': '/usr/local/lib/python3.7/dist-packages/aip/data/LGG-326/T1.nii.gz', 'T2_image': '/usr/local/lib/python3.7/dist-packages/aip/data/LGG-326/T2.nii.gz', 'Segmentation_full': '/usr/local/lib/python3.7/dist-packages/aip/data/LGG-326/Full_segmentation.nii.gz', 'Segmentation_slices': '/usr/local/lib/python3.7/dist-packages/aip/data/LGG-326/Segmentation.nii.gz', 'T1_metadata': '/usr/local/lib/python3.7/dist-packages/aip/data/LGG-326/00000_T1.dcm', 'T2_metadata': '/usr/local/lib/python3.7/dist-packages/aip/data/LGG-326/00000_T2.dcm'}.\n",
            "LGG-327: {'T1_image': '/usr/local/lib/python3.7/dist-packages/aip/data/LGG-327/T1.nii.gz', 'T2_image': '/usr/local/lib/python3.7/dist-packages/aip/data/LGG-327/T2.nii.gz', 'Segmentation_full': '/usr/local/lib/python3.7/dist-packages/aip/data/LGG-327/Full_segmentation.nii.gz', 'Segmentation_slices': '/usr/local/lib/python3.7/dist-packages/aip/data/LGG-327/Segmentation.nii.gz', 'T1_metadata': '/usr/local/lib/python3.7/dist-packages/aip/data/LGG-327/00000_T1.dcm', 'T2_metadata': '/usr/local/lib/python3.7/dist-packages/aip/data/LGG-327/00000_T2.dcm'}.\n",
            "LGG-330: {'T1_image': '/usr/local/lib/python3.7/dist-packages/aip/data/LGG-330/T1.nii.gz', 'T2_image': '/usr/local/lib/python3.7/dist-packages/aip/data/LGG-330/T2.nii.gz', 'Segmentation_full': '/usr/local/lib/python3.7/dist-packages/aip/data/LGG-330/Full_segmentation.nii.gz', 'Segmentation_slices': '/usr/local/lib/python3.7/dist-packages/aip/data/LGG-330/Segmentation.nii.gz', 'T1_metadata': '/usr/local/lib/python3.7/dist-packages/aip/data/LGG-330/00000_T1.dcm', 'T2_metadata': '/usr/local/lib/python3.7/dist-packages/aip/data/LGG-330/00000_T2.dcm'}.\n",
            "LGG-346: {'T1_image': '/usr/local/lib/python3.7/dist-packages/aip/data/LGG-346/T1.nii.gz', 'T2_image': '/usr/local/lib/python3.7/dist-packages/aip/data/LGG-346/T2.nii.gz', 'Segmentation_full': '/usr/local/lib/python3.7/dist-packages/aip/data/LGG-346/Full_segmentation.nii.gz', 'Segmentation_slices': '/usr/local/lib/python3.7/dist-packages/aip/data/LGG-346/Segmentation.nii.gz', 'T1_metadata': '/usr/local/lib/python3.7/dist-packages/aip/data/LGG-346/00000_T1.dcm', 'T2_metadata': '/usr/local/lib/python3.7/dist-packages/aip/data/LGG-346/00000_T2.dcm'}.\n",
            "LGG-351: {'T1_image': '/usr/local/lib/python3.7/dist-packages/aip/data/LGG-351/T1.nii.gz', 'T2_image': '/usr/local/lib/python3.7/dist-packages/aip/data/LGG-351/T2.nii.gz', 'Segmentation_full': '/usr/local/lib/python3.7/dist-packages/aip/data/LGG-351/Full_segmentation.nii.gz', 'Segmentation_slices': '/usr/local/lib/python3.7/dist-packages/aip/data/LGG-351/Segmentation.nii.gz', 'T1_metadata': '/usr/local/lib/python3.7/dist-packages/aip/data/LGG-351/00000_T1.dcm', 'T2_metadata': '/usr/local/lib/python3.7/dist-packages/aip/data/LGG-351/00000_T2.dcm'}.\n",
            "LGG-518: {'T1_image': '/usr/local/lib/python3.7/dist-packages/aip/data/LGG-518/T1.nii.gz', 'T2_image': '/usr/local/lib/python3.7/dist-packages/aip/data/LGG-518/T2.nii.gz', 'Segmentation_full': '/usr/local/lib/python3.7/dist-packages/aip/data/LGG-518/Full_segmentation.nii.gz', 'Segmentation_slices': '/usr/local/lib/python3.7/dist-packages/aip/data/LGG-518/Segmentation.nii.gz', 'T1_metadata': '/usr/local/lib/python3.7/dist-packages/aip/data/LGG-518/00000_T1.dcm', 'T2_metadata': '/usr/local/lib/python3.7/dist-packages/aip/data/LGG-518/00000_T2.dcm'}.\n",
            "LGG-525: {'T1_image': '/usr/local/lib/python3.7/dist-packages/aip/data/LGG-525/T1.nii.gz', 'T2_image': '/usr/local/lib/python3.7/dist-packages/aip/data/LGG-525/T2.nii.gz', 'Segmentation_full': '/usr/local/lib/python3.7/dist-packages/aip/data/LGG-525/Full_segmentation.nii.gz', 'Segmentation_slices': '/usr/local/lib/python3.7/dist-packages/aip/data/LGG-525/Segmentation.nii.gz', 'T1_metadata': '/usr/local/lib/python3.7/dist-packages/aip/data/LGG-525/00000_T1.dcm', 'T2_metadata': '/usr/local/lib/python3.7/dist-packages/aip/data/LGG-525/00000_T2.dcm'}.\n",
            "LGG-566: {'T1_image': '/usr/local/lib/python3.7/dist-packages/aip/data/LGG-566/T1.nii.gz', 'T2_image': '/usr/local/lib/python3.7/dist-packages/aip/data/LGG-566/T2.nii.gz', 'Segmentation_full': '/usr/local/lib/python3.7/dist-packages/aip/data/LGG-566/Full_segmentation.nii.gz', 'Segmentation_slices': '/usr/local/lib/python3.7/dist-packages/aip/data/LGG-566/Segmentation.nii.gz', 'T1_metadata': '/usr/local/lib/python3.7/dist-packages/aip/data/LGG-566/00000_T1.dcm', 'T2_metadata': '/usr/local/lib/python3.7/dist-packages/aip/data/LGG-566/00000_T2.dcm'}.\n",
            "LGG-570: {'T1_image': '/usr/local/lib/python3.7/dist-packages/aip/data/LGG-570/T1.nii.gz', 'T2_image': '/usr/local/lib/python3.7/dist-packages/aip/data/LGG-570/T2.nii.gz', 'Segmentation_full': '/usr/local/lib/python3.7/dist-packages/aip/data/LGG-570/Full_segmentation.nii.gz', 'Segmentation_slices': '/usr/local/lib/python3.7/dist-packages/aip/data/LGG-570/Segmentation.nii.gz', 'T1_metadata': '/usr/local/lib/python3.7/dist-packages/aip/data/LGG-570/00000_T1.dcm', 'T2_metadata': '/usr/local/lib/python3.7/dist-packages/aip/data/LGG-570/00000_T2.dcm'}.\n",
            "{'LGG-104': 1, 'LGG-246': 1, 'LGG-261': 1, 'LGG-273': 0, 'LGG-274': 1, 'LGG-278': 1, 'LGG-285': 0, 'LGG-286': 0, 'LGG-293': 0, 'LGG-297': 0, 'LGG-311': 0, 'LGG-326': 1, 'LGG-327': 0, 'LGG-330': 1, 'LGG-346': 0, 'LGG-351': 0, 'LGG-518': 0, 'LGG-525': 1, 'LGG-566': 1, 'LGG-570': 1}\n"
          ],
          "name": "stdout"
        }
      ]
    },
    {
      "cell_type": "markdown",
      "metadata": {
        "id": "tsnNLCldJiNp"
      },
      "source": [
        "\r\n",
        "To analyze the scan parameters, let's take a look at the DICOMs of the T1 scans."
      ]
    },
    {
      "cell_type": "code",
      "metadata": {
        "colab": {
          "base_uri": "https://localhost:8080/"
        },
        "id": "gM4DCcU7Jhvq",
        "outputId": "cff4a718-9957-441d-9bbe-25801d9c7748"
      },
      "source": [
        "Dicom_file_list = [LGG_data[pid]['T1_metadata'] for pid in patient_ids]\r\n",
        "Dicom_file_list.sort()\r\n",
        "\r\n",
        "# Load and print the first DICOM to the command line\r\n",
        "dicom = pydicom.read_file(Dicom_file_list[0])\r\n",
        "print(dicom)"
      ],
      "execution_count": 4,
      "outputs": [
        {
          "output_type": "stream",
          "text": [
            "Dataset.file_meta -------------------------------\n",
            "(0002, 0000) File Meta Information Group Length  UL: 194\n",
            "(0002, 0001) File Meta Information Version       OB: b'\\x00\\x01'\n",
            "(0002, 0002) Media Storage SOP Class UID         UI: MR Image Storage\n",
            "(0002, 0003) Media Storage SOP Instance UID      UI: 1.3.6.1.4.1.14519.5.2.1.3344.2526.297543010293189724140766218400\n",
            "(0002, 0010) Transfer Syntax UID                 UI: Implicit VR Little Endian\n",
            "(0002, 0012) Implementation Class UID            UI: 1.2.40.0.13.1.1.1\n",
            "(0002, 0013) Implementation Version Name         SH: 'dcm4che-1.4.35'\n",
            "-------------------------------------------------\n",
            "(0008, 0005) Specific Character Set              CS: 'ISO_IR 100'\n",
            "(0008, 0008) Image Type                          CS: ['ORIGINAL', 'PRIMARY', 'OTHER']\n",
            "(0008, 0016) SOP Class UID                       UI: MR Image Storage\n",
            "(0008, 0018) SOP Instance UID                    UI: 1.3.6.1.4.1.14519.5.2.1.3344.2526.297543010293189724140766218400\n",
            "(0008, 0020) Study Date                          DA: '20000626'\n",
            "(0008, 0021) Series Date                         DA: '20000626'\n",
            "(0008, 0022) Acquisition Date                    DA: '20000626'\n",
            "(0008, 0023) Content Date                        DA: '20000626'\n",
            "(0008, 0030) Study Time                          TM: '101452'\n",
            "(0008, 0031) Series Time                         TM: '102536'\n",
            "(0008, 0032) Acquisition Time                    TM: '102537'\n",
            "(0008, 0033) Content Time                        TM: '102537'\n",
            "(0008, 0050) Accession Number                    SH: '7408465417966656'\n",
            "(0008, 0060) Modality                            CS: 'MR'\n",
            "(0008, 0070) Manufacturer                        LO: 'GE MEDICAL SYSTEMS'\n",
            "(0008, 0090) Referring Physician's Name          PN: ''\n",
            "(0008, 1030) Study Description                   LO: 'MRI Hd wo+w'\n",
            "(0008, 1032)  Procedure Code Sequence  1 item(s) ---- \n",
            "   (0008, 0100) Code Value                          SH: '70553'\n",
            "   (0008, 0102) Coding Scheme Designator            SH: 'GEIIS'\n",
            "   (0008, 0103) Coding Scheme Version               SH: '0'\n",
            "   (0008, 0104) Code Meaning                        LO: 'MRI Hd wo+w'\n",
            "   ---------\n",
            "(0008, 103e) Series Description                  LO: 'T1'\n",
            "(0009, 0010) Private Creator                     LO: 'GEMS_IDEN_01'\n",
            "(0009, 0011) Private Creator                     LO: 'GEIIS'\n",
            "(0010, 0010) Patient's Name                      PN: 'LGG-104'\n",
            "(0010, 0020) Patient ID                          LO: 'LGG-104'\n",
            "(0010, 0030) Patient's Birth Date                DA: ''\n",
            "(0010, 0040) Patient's Sex                       CS: 'F'\n",
            "(0010, 1010) Patient's Age                       AS: '055Y'\n",
            "(0010, 1030) Patient's Weight                    DS: \"59.0\"\n",
            "(0012, 0062) Patient Identity Removed            CS: 'YES'\n",
            "(0012, 0063) De-identification Method            LO: 'Per DICOM PS 3.15 AnnexE. Details in 0012,0064'\n",
            "(0012, 0064)  De-identification Method Code Sequence  8 item(s) ---- \n",
            "   (0008, 0100) Code Value                          SH: '113100'\n",
            "   (0008, 0102) Coding Scheme Designator            SH: 'DCM'\n",
            "   (0008, 0104) Code Meaning                        LO: 'Basic Application Confidentiality Profile'\n",
            "   ---------\n",
            "   (0008, 0100) Code Value                          SH: '113101'\n",
            "   (0008, 0102) Coding Scheme Designator            SH: 'DCM'\n",
            "   (0008, 0104) Code Meaning                        LO: 'Clean Pixel Data Option'\n",
            "   ---------\n",
            "   (0008, 0100) Code Value                          SH: '113104'\n",
            "   (0008, 0102) Coding Scheme Designator            SH: 'DCM'\n",
            "   (0008, 0104) Code Meaning                        LO: 'Clean Structured Content Option'\n",
            "   ---------\n",
            "   (0008, 0100) Code Value                          SH: '113105'\n",
            "   (0008, 0102) Coding Scheme Designator            SH: 'DCM'\n",
            "   (0008, 0104) Code Meaning                        LO: 'Clean Descriptors Option'\n",
            "   ---------\n",
            "   (0008, 0100) Code Value                          SH: '113107'\n",
            "   (0008, 0102) Coding Scheme Designator            SH: 'DCM'\n",
            "   (0008, 0104) Code Meaning                        LO: 'Retain Longitudinal Temporal Information Modified Dates Option'\n",
            "   ---------\n",
            "   (0008, 0100) Code Value                          SH: '113108'\n",
            "   (0008, 0102) Coding Scheme Designator            SH: 'DCM'\n",
            "   (0008, 0104) Code Meaning                        LO: 'Retain Patient Characteristics Option'\n",
            "   ---------\n",
            "   (0008, 0100) Code Value                          SH: '113109'\n",
            "   (0008, 0102) Coding Scheme Designator            SH: 'DCM'\n",
            "   (0008, 0104) Code Meaning                        LO: 'Retain Device Identity Option'\n",
            "   ---------\n",
            "   (0008, 0100) Code Value                          SH: '113111'\n",
            "   (0008, 0102) Coding Scheme Designator            SH: 'DCM'\n",
            "   (0008, 0104) Code Meaning                        LO: 'Retain Safe Private Option'\n",
            "   ---------\n",
            "(0013, 0010) Private Creator                     LO: 'CTP'\n",
            "(0013, 1010) Private tag data                    UN: Array of 18 elements\n",
            "(0013, 1013) Private tag data                    UN: b'33442526'\n",
            "(0018, 0010) Contrast/Bolus Agent                LO: ''\n",
            "(0018, 0015) Body Part Examined                  CS: 'BRAIN'\n",
            "(0018, 0020) Scanning Sequence                   CS: 'GR'\n",
            "(0018, 0021) Sequence Variant                    CS: ['SS', 'SP']\n",
            "(0018, 0022) Scan Options                        CS: 'FILTERED_GEMS'\n",
            "(0018, 0023) MR Acquisition Type                 CS: '3D'\n",
            "(0018, 0025) Angio Flag                          CS: 'N'\n",
            "(0018, 0050) Slice Thickness                     DS: \"3.0\"\n",
            "(0018, 0080) Repetition Time                     DS: \"20.0\"\n",
            "(0018, 0081) Echo Time                           DS: \"6.0\"\n",
            "(0018, 0082) Inversion Time                      DS: \"0.0\"\n",
            "(0018, 0083) Number of Averages                  DS: \"1.0\"\n",
            "(0018, 0084) Imaging Frequency                   DS: \"63.853808\"\n",
            "(0018, 0085) Imaged Nucleus                      SH: '1H'\n",
            "(0018, 0086) Echo Number(s)                      IS: \"1\"\n",
            "(0018, 0087) Magnetic Field Strength             DS: \"1.5\"\n",
            "(0018, 0088) Spacing Between Slices              DS: \"3.0\"\n",
            "(0018, 0091) Echo Train Length                   IS: \"1\"\n",
            "(0018, 0093) Percent Sampling                    DS: \"100.0\"\n",
            "(0018, 0094) Percent Phase Field of View         DS: \"100.0\"\n",
            "(0018, 0095) Pixel Bandwidth                     DS: \"122.109\"\n",
            "(0018, 1040) Contrast/Bolus Route                LO: 'IV'\n",
            "(0018, 1088) Heart Rate                          IS: \"0\"\n",
            "(0018, 1090) Cardiac Number of Images            IS: \"0\"\n",
            "(0018, 1094) Trigger Window                      IS: \"0\"\n",
            "(0018, 1100) Reconstruction Diameter             DS: \"240.0\"\n",
            "(0018, 1250) Receive Coil Name                   SH: '8HRBRAIN'\n",
            "(0018, 1310) Acquisition Matrix                  US: [0, 256, 256, 0]\n",
            "(0018, 1312) In-plane Phase Encoding Direction   CS: 'ROW'\n",
            "(0018, 1314) Flip Angle                          DS: \"45.0\"\n",
            "(0018, 1315) Variable Flip Angle Flag            CS: 'N'\n",
            "(0018, 1316) SAR                                 DS: \"0.226666\"\n",
            "(0018, 5100) Patient Position                    CS: 'HFS'\n",
            "(0019, 0010) Private Creator                     LO: 'GEMS_ACQU_01'\n",
            "(0020, 000d) Study Instance UID                  UI: 1.3.6.1.4.1.14519.5.2.1.3344.2526.291265840929678567019499305523\n",
            "(0020, 000e) Series Instance UID                 UI: 1.3.6.1.4.1.14519.5.2.1.3344.2526.641668975271574884290627862002\n",
            "(0020, 0010) Study ID                            SH: ''\n",
            "(0020, 0011) Series Number                       IS: \"1\"\n",
            "(0020, 0012) Acquisition Number                  IS: \"1\"\n",
            "(0020, 0013) Instance Number                     IS: \"26\"\n",
            "(0020, 0032) Image Position (Patient)            DS: [-117.336, -141.601, 19.4243]\n",
            "(0020, 0037) Image Orientation (Patient)         DS: [1, -0, 0, -0, 1, 0]\n",
            "(0020, 0052) Frame of Reference UID              UI: 1.3.6.1.4.1.14519.5.2.1.3344.2526.132603511475630932478498154959\n",
            "(0020, 0060) Laterality                          CS: ''\n",
            "(0020, 1002) Images in Acquisition               IS: \"60\"\n",
            "(0020, 1040) Position Reference Indicator        LO: ''\n",
            "(0020, 1041) Slice Location                      DS: \"19.42428207\"\n",
            "(0020, 9056) Stack ID                            SH: '1'\n",
            "(0020, 9057) In-Stack Position Number            UL: 28\n",
            "(0021, 0010) Private Creator                     LO: 'GEMS_RELA_01'\n",
            "(0023, 0010) Private Creator                     LO: 'GEMS_STDY_01'\n",
            "(0025, 0010) Private Creator                     LO: 'GEMS_SERS_01'\n",
            "(0027, 0010) Private Creator                     LO: 'GEMS_IMAG_01'\n",
            "(0028, 0002) Samples per Pixel                   US: 1\n",
            "(0028, 0004) Photometric Interpretation          CS: 'MONOCHROME2'\n",
            "(0028, 0010) Rows                                US: 256\n",
            "(0028, 0011) Columns                             US: 256\n",
            "(0028, 0030) Pixel Spacing                       DS: [0.9375, 0.9375]\n",
            "(0028, 0100) Bits Allocated                      US: 16\n",
            "(0028, 0101) Bits Stored                         US: 16\n",
            "(0028, 0102) High Bit                            US: 15\n",
            "(0028, 0103) Pixel Representation                US: 1\n",
            "(0028, 0106) Smallest Image Pixel Value          SS: 0\n",
            "(0028, 0107) Largest Image Pixel Value           SS: 399\n",
            "(0028, 0303) Longitudinal Temporal Information M CS: 'MODIFIED'\n",
            "(0028, 1050) Window Center                       DS: \"142.0\"\n",
            "(0028, 1051) Window Width                        DS: \"357.0\"\n",
            "(0029, 0010) Private Creator                     LO: 'GEMS_IMPS_01'\n",
            "(0043, 0010) Private Creator                     LO: 'GEMS_PARM_01'\n",
            "(0903, 0010) Private Creator                     LO: 'GEIIS PACS'\n",
            "(0905, 0010) Private Creator                     LO: 'GEIIS'\n",
            "(7fd1, 0010) Private Creator                     LO: 'GEIIS'\n",
            "(7fe0, 0010) Pixel Data                          OW: Array of 131072 elements\n"
          ],
          "name": "stdout"
        }
      ]
    },
    {
      "cell_type": "markdown",
      "metadata": {
        "id": "06LO3SQdKVmL"
      },
      "source": [
        "You can see that the DICOM contains a lot of information. Let's for now\r\n",
        "focus on some parameters that can have a major impact on the image itself,\r\n",
        "and thus on the features extracted from it:\r\n",
        "- 0x18, 0x50: the slice thickness\r\n",
        "- 0x18, 0x87: the magnetic field strenght\r\n",
        "- 0x8, 0x1010: the manufacturer\r\n",
        "- 0x28, 0x30: the pixel spacing"
      ]
    },
    {
      "cell_type": "code",
      "metadata": {
        "colab": {
          "base_uri": "https://localhost:8080/"
        },
        "id": "vJ2KPmETKRi6",
        "outputId": "5bfb4d7f-899a-4dcc-a3c8-7947b4b1db2c"
      },
      "source": [
        "# You can extract the value of a tag in the following way:\r\n",
        "slice_thickness = dicom[0x18, 0x50].value\r\n",
        "print(f'Slice Thickness: {slice_thickness}.')"
      ],
      "execution_count": 5,
      "outputs": [
        {
          "output_type": "stream",
          "text": [
            "Slice Thickness: 3.\n"
          ],
          "name": "stdout"
        }
      ]
    },
    {
      "cell_type": "markdown",
      "metadata": {
        "id": "cymZEbh7Kd0V"
      },
      "source": [
        "## Exercise 1: Data analysis\r\n",
        "\r\n",
        "- **Hand-In Code**: all.\r\n",
        "- **Hand-In Answers**: The generated plots and answers to the questions.\r\n",
        "\r\n",
        "1. Extract the values of the four DICOM tags mentioned above from all\r\n",
        "  the DICOM files. Note: the patient ID is in tag 0x10, 0x20!\r\n",
        "\r\n",
        "2. Create a histogram or violin plot of the values. Hint: use the ```aip.other.make_violin_plot``` function! **Question:** What do you notice? Considering the\r\n",
        "  feature extraction in the next step, what (preprocessing) methods would\r\n",
        "  you use to deal with this? \r\n",
        "\r\n"
      ]
    },
    {
      "cell_type": "code",
      "metadata": {
        "id": "aOfqklyAzkEm"
      },
      "source": [
        "dicom_tags = {}\n",
        "slice_thickness = []\n",
        "magnetic_field_strength = []\n",
        "manufacturer = []\n",
        "pixel_spacing = []\n",
        "\n",
        "for file in Dicom_file_list:\n",
        "    temp_dicom = pydicom.read_file(file)\n",
        "   \n",
        "    slice_thickness.append(temp_dicom[0x18, 0x50].value)\n",
        "    magnetic_field_strength.append(temp_dicom[0x18, 0x87].value)\n",
        "    try:\n",
        "      manufacturer.append(temp_dicom[0x8, 0x1010].value)\n",
        "    except Exception as e:\n",
        "      manufacturer.append(\"\")\n",
        "    pixel_spacing.append(temp_dicom[0x28, 0x30].value)\n",
        "\n",
        "dicom_tags[\"slice_thickness\"] = slice_thickness\n",
        "#\n",
        "dicom_tags[\"magnetic_field_strength\"] = magnetic_field_strength\n",
        "#dicom_tags[\"manufacturer\"] = manufacturer\n",
        "#dicom_tags[\"pixel_spacing\"] = pixel_spacing"
      ],
      "execution_count": 7,
      "outputs": []
    },
    {
      "cell_type": "code",
      "metadata": {
        "id": "O0ymYmRYf3SY",
        "colab": {
          "base_uri": "https://localhost:8080/",
          "height": 270
        },
        "outputId": "d1e92319-9029-4a84-a7a0-3d7742782b52"
      },
      "source": [
        "aip.other.make_violin_plot(dicom_tags)"
      ],
      "execution_count": 8,
      "outputs": [
        {
          "output_type": "display_data",
          "data": {
            "image/png": "[encoded data removed]",
            "text/plain": [
              "<Figure size 432x288 with 2 Axes>"
            ]
          },
          "metadata": {
            "tags": [],
            "needs_background": "light"
          }
        }
      ]
    },
    {
      "cell_type": "markdown",
      "metadata": {
        "id": "cwKh_ryPcmRA"
      },
      "source": [
        "## Exercise 2: Segmentation\r\n",
        "\r\n",
        "- **Hand-In Code**: None.\r\n",
        "- **Hand-In Answers**: Answer.\r\n",
        "\r\n",
        "We gave you two tumor segmentations per patient: three slices centered around\r\n",
        "the largest slice, and the full tumor. Which one(s) you take is up to you.\r\n",
        "**Question:** Please however motivate your choice, and verify later on (exercise 6)\r\n",
        "whether this indeed was a good choice or not."
      ]
    },
    {
      "cell_type": "markdown",
      "metadata": {
        "id": "a3272KttKvUD"
      },
      "source": [
        "## Exercise 3: Preproccessing\r\n",
        "\r\n",
        "- **Hand-In Code**: all.\r\n",
        "- **Hand-In Answers**: The generated plots and answers to the questions.\r\n",
        "\r\n",
        "In the lecture, we have seen that preprocessing can help to deal with \r\n",
        "variations in the data. Apply the preprocessing steps you think are neccesary\r\n",
        "to this dataset. **Question:** Please provide a good motivation for why you performed\r\n",
        "certain steps!\r\n",
        "\r\n",
        "Hints: you may want to use the ```sitk.Normalize``` and ```aip.other.resample_images``` functions.\r\n",
        "Hints: optionally, you may use one or multiple masks here.\r\n",
        "Hints: as the T1 and T2 for each patient are registered, they have the same\r\n",
        "       pixel spacing and slice thickness!"
      ]
    },
    {
      "cell_type": "code",
      "metadata": {
        "id": "99fiKTw-Kcik",
        "colab": {
          "base_uri": "https://localhost:8080/"
        },
        "outputId": "66dd7f8f-aa32-4a17-da09-7cd9674dbc0e"
      },
      "source": [
        "# You can use the code below as a start if you want\r\n",
        "def apply_preprocessing(inputimage, outputimage, ismask=False):\r\n",
        "    \"\"\"Define the preprocessing to apply per patient.\"\"\"\r\n",
        "    # Load image\r\n",
        "    image = sitk.ReadImage(inputimage)\r\n",
        "    # Apply preprocessing  \r\n",
        "    # Hint: you may want to apply different preprocessing for masks than for the images\r\n",
        "    normalized_image = sitk.Normalize(image)\r\n",
        "    # Write output\r\n",
        "    sitk.WriteImage(image, outputimage)     \r\n",
        "\r\n",
        "for pid in patient_ids:\r\n",
        "  print(f'Preprocessing {pid}')\r\n",
        "  print('\\t T1')\r\n",
        "  output = LGG_data[pid]['T1_image'].replace('.nii.gz', '_preprocessed.nii.gz')\r\n",
        "  apply_preprocessing(LGG_data[pid]['T1_image'], output)\r\n",
        "\r\n",
        "  print('\\t T2')\r\n",
        "  output = LGG_data[pid]['T2_image'].replace('.nii.gz', '_preprocessed.nii.gz')\r\n",
        "  apply_preprocessing(LGG_data[pid]['T2_image'], output)\r\n",
        "\r\n",
        "  # Depending on exercise 2, choose one of the segmentations below\r\n",
        "  print('\\t Full segmentation')\r\n",
        "  output = LGG_data[pid]['Segmentation_full'].replace('.nii.gz', '_preprocessed.nii.gz')\r\n",
        "  apply_preprocessing(LGG_data[pid]['Segmentation_full'], output, ismask=True)\r\n",
        "\r\n",
        "  print('\\t Slices segmentation')\r\n",
        "  output = LGG_data[pid]['Segmentation_slices'].replace('.nii.gz', '_preprocessed.nii.gz')\r\n",
        "  apply_preprocessing(LGG_data[pid]['Segmentation_slices'], output, ismask=True)\r\n",
        "\r\n",
        "print('Done!')"
      ],
      "execution_count": 9,
      "outputs": [
        {
          "output_type": "stream",
          "text": [
            "Preprocessing LGG-104\n",
            "\t T1\n",
            "\t T2\n",
            "\t Full segmentation\n",
            "\t Slices segmentation\n",
            "Preprocessing LGG-246\n",
            "\t T1\n",
            "\t T2\n",
            "\t Full segmentation\n",
            "\t Slices segmentation\n",
            "Preprocessing LGG-261\n",
            "\t T1\n",
            "\t T2\n",
            "\t Full segmentation\n",
            "\t Slices segmentation\n",
            "Preprocessing LGG-273\n",
            "\t T1\n",
            "\t T2\n",
            "\t Full segmentation\n",
            "\t Slices segmentation\n",
            "Preprocessing LGG-274\n",
            "\t T1\n",
            "\t T2\n",
            "\t Full segmentation\n",
            "\t Slices segmentation\n",
            "Preprocessing LGG-278\n",
            "\t T1\n",
            "\t T2\n",
            "\t Full segmentation\n",
            "\t Slices segmentation\n",
            "Preprocessing LGG-285\n",
            "\t T1\n",
            "\t T2\n",
            "\t Full segmentation\n",
            "\t Slices segmentation\n",
            "Preprocessing LGG-286\n",
            "\t T1\n",
            "\t T2\n",
            "\t Full segmentation\n",
            "\t Slices segmentation\n",
            "Preprocessing LGG-293\n",
            "\t T1\n",
            "\t T2\n",
            "\t Full segmentation\n",
            "\t Slices segmentation\n",
            "Preprocessing LGG-297\n",
            "\t T1\n",
            "\t T2\n",
            "\t Full segmentation\n",
            "\t Slices segmentation\n",
            "Preprocessing LGG-311\n",
            "\t T1\n",
            "\t T2\n",
            "\t Full segmentation\n",
            "\t Slices segmentation\n",
            "Preprocessing LGG-326\n",
            "\t T1\n",
            "\t T2\n",
            "\t Full segmentation\n",
            "\t Slices segmentation\n",
            "Preprocessing LGG-327\n",
            "\t T1\n",
            "\t T2\n",
            "\t Full segmentation\n",
            "\t Slices segmentation\n",
            "Preprocessing LGG-330\n",
            "\t T1\n",
            "\t T2\n",
            "\t Full segmentation\n",
            "\t Slices segmentation\n",
            "Preprocessing LGG-346\n",
            "\t T1\n",
            "\t T2\n",
            "\t Full segmentation\n",
            "\t Slices segmentation\n",
            "Preprocessing LGG-351\n",
            "\t T1\n",
            "\t T2\n",
            "\t Full segmentation\n",
            "\t Slices segmentation\n",
            "Preprocessing LGG-518\n",
            "\t T1\n",
            "\t T2\n",
            "\t Full segmentation\n",
            "\t Slices segmentation\n",
            "Preprocessing LGG-525\n",
            "\t T1\n",
            "\t T2\n",
            "\t Full segmentation\n",
            "\t Slices segmentation\n",
            "Preprocessing LGG-566\n",
            "\t T1\n",
            "\t T2\n",
            "\t Full segmentation\n",
            "\t Slices segmentation\n",
            "Preprocessing LGG-570\n",
            "\t T1\n",
            "\t T2\n",
            "\t Full segmentation\n",
            "\t Slices segmentation\n",
            "Done!\n"
          ],
          "name": "stdout"
        }
      ]
    },
    {
      "cell_type": "markdown",
      "metadata": {
        "id": "Kt-LK-iJcget"
      },
      "source": [
        "    \r\n",
        "## Exercise 4: Feature extraction\r\n",
        "\r\n",
        "\r\n",
        "- **Hand-In Code**: all.\r\n",
        "- **Hand-In Answers**: The generated plots and answers to the questions.\r\n",
        "\r\n",
        "1. Inspect the images visually.\r\n",
        "   **Question:** What kind of features do you think are \"good\" for this application?\r\n",
        "\r\n",
        "  Hint: remember the ```aip.other.slicer``` function from the Monday exercise.\r\n",
        "\r\n"
      ]
    },
    {
      "cell_type": "code",
      "metadata": {
        "id": "Qte7klU9_FPV",
        "outputId": "160402c5-7ae4-4c21-dfff-2b23089d7f79",
        "colab": {
          "base_uri": "https://localhost:8080/",
          "height": 199
        }
      },
      "source": [
        "image=sitk.ReadImage(\"/usr/local/lib/python3.7/dist-packages/aip/data/LGG-330/Segmentation_preprocessed.nii.gz\")\n",
        "image_array=sitk.GetArrayFromImage(image)\n",
        "aip.other.slicer(np.transpose(image_array, [2, 1, 0]))"
      ],
      "execution_count": 32,
      "outputs": [
        {
          "output_type": "display_data",
          "data": {
            "image/png": "[encoded data removed]",
            "text/plain": [
              "<Figure size 648x216 with 3 Axes>"
            ]
          },
          "metadata": {
            "tags": [],
            "needs_background": "light"
          }
        }
      ]
    },
    {
      "cell_type": "code",
      "metadata": {
        "id": "1SipMdX8S6DK"
      },
      "source": [
        "image_features = list()\n",
        "\n",
        "# We will save the T2 images and masks in lists so you can use them later\n",
        "T2_images = list()\n",
        "T2_masks = list()\n",
        "\n",
        "for pid in LGG_data.keys():\n",
        "    # Load the image and mask, plus convert ITK Images to arrays\n",
        "    image = sitk.ReadImage(LGG_data[pid]['T2_image'])\n",
        "    image_array = np.transpose(sitk.GetArrayFromImage(image), [2, 1, 0])\n",
        "    mask = sitk.ReadImage(LGG_data[pid]['Segmentation_slices'])\n",
        "    mask_array = np.transpose(sitk.GetArrayFromImage(mask), [2, 1, 0])\n",
        "\n",
        "    # Extract only those slices that contain tumor\n",
        "    image_array, mask_array = ih.get_masked_slices_image(image_array, mask_array)\n",
        "    masked_voxels_a = ih.get_masked_voxels(image_array, mask_array)\n",
        "\n",
        "    # Extract features\n",
        "    features, feature_names = get_histogram_features(masked_voxels_a, 50)\n",
        "\n",
        "    # Append to a list so we can combine all features from all patients\n",
        "    image_features.append(dict(zip(feature_names, features)))\n",
        "\n",
        "    # We will save the T2 images and masks in lists so you can use them later\n",
        "    T2_images.append(image_array)\n",
        "    T2_masks.append(mask_array)"
      ],
      "execution_count": 40,
      "outputs": []
    },
    {
      "cell_type": "markdown",
      "metadata": {
        "id": "YSv1FC8D_Fj9"
      },
      "source": [
        "2. Extract those features for all patients using the scripts from the\r\n",
        "  the Monday exercise using the ```PREDICT``` toolbox, which we already imported here as well.\r\n",
        "\r\n",
        "Hint: you may want to again use the ```ih.get_masked_voxels``` and \r\n",
        "  ```ih.get_masked_slices_image``` functions for the histogram and \r\n",
        "  texture features, respectively.\r\n",
        "\r\n",
        "Hint: save the features in a file (e.g. .hdf5 with pandas, .json, .csv) so\r\n",
        "  you don't have to run this multiple times! "
      ]
    },
    {
      "cell_type": "code",
      "metadata": {
        "colab": {
          "base_uri": "https://localhost:8080/"
        },
        "id": "cbxqOzNkaBhf",
        "outputId": "eec3efdd-0af0-439c-8e2b-3e452005b6aa"
      },
      "source": [
        "# Example on how you can save your features easily\r\n",
        "example_feature_values = [1, 2, 3]\r\n",
        "example_feature_labels = ['label1', 'label2', 'label3']\r\n",
        "\r\n",
        "# Convert to panda series and save\r\n",
        "panda_data = pd.Series([example_feature_values, example_feature_labels],\r\n",
        "                        index=['feature_values', 'feature_labels'],\r\n",
        "                        name='Image features'\r\n",
        "                      )\r\n",
        "        \r\n",
        "output = 'example_features.hdf5'\r\n",
        "panda_data.to_hdf(output, 'image_features') "
      ],
      "execution_count": null,
      "outputs": [
        {
          "output_type": "stream",
          "text": [
            "/usr/local/lib/python3.6/dist-packages/pandas/core/generic.py:2449: PerformanceWarning: \n",
            "your performance may suffer as PyTables will pickle object types that it cannot\n",
            "map directly to c-types [inferred_type->mixed,key->values] [items->None]\n",
            "\n",
            "  encoding=encoding,\n"
          ],
          "name": "stderr"
        }
      ]
    },
    {
      "cell_type": "markdown",
      "metadata": {
        "id": "AoPNdvZldYB-"
      },
      "source": [
        "## Feature selection\r\n",
        "\r\n",
        " As seen in the lecture, the Mann-Whitney U test can be used as feature\r\n",
        " selection method by only selecting features with a low (e.g. < 0.05)\r\n",
        " p-value. We have implemented this in the StatisticalTestThreshold object.\r\n"
      ]
    },
    {
      "cell_type": "code",
      "metadata": {
        "id": "uwmVkAzdda_M"
      },
      "source": [
        "# Let's create an example dataset to test this on. For this,\r\n",
        "# we will use the sklearn make_classification function:\r\n",
        "X1, Y1 = ds.make_classification(n_samples=100, n_features=3, n_redundant=1,\r\n",
        "                                n_informative=2,\r\n",
        "                                n_clusters_per_class=1)"
      ],
      "execution_count": 41,
      "outputs": []
    },
    {
      "cell_type": "markdown",
      "metadata": {
        "id": "kXmOr9-qdcqp"
      },
      "source": [
        "Note that we added one redundant feature, which should be de-selected. Also,\r\n",
        "note the format of the features \r\n",
        "(X1, numpy array, columns=features, rows=patients) and the labels\r\n",
        "(Y1, numpy array)"
      ]
    },
    {
      "cell_type": "code",
      "metadata": {
        "colab": {
          "base_uri": "https://localhost:8080/"
        },
        "id": "Y3JGR_8Edeoi",
        "outputId": "10e7602a-8a7f-4b34-8d89-8960ce3221d6"
      },
      "source": [
        "# Create a selector object\r\n",
        "selector = StatisticalTestThreshold()\r\n",
        "\r\n",
        "# Fit on the dataset\r\n",
        "selector.fit(X1, Y1)\r\n",
        "\r\n",
        "# We can check the metric values of each features:\r\n",
        "print(selector.metric_values)\r\n",
        "\r\n",
        "# and the indices of the features that got selected:\r\n",
        "print(selector.selectrows)"
      ],
      "execution_count": 42,
      "outputs": [
        {
          "output_type": "stream",
          "text": [
            "[3.533035965194466e-18, 1.0698192987416241e-16, 3.533035965194466e-18]\n",
            "[0, 1, 2]\n"
          ],
          "name": "stdout"
        }
      ]
    },
    {
      "cell_type": "markdown",
      "metadata": {
        "id": "lB0MXaHddinc"
      },
      "source": [
        "It may be that your redundant feature got remove, but maybe not. If the\r\n",
        "feature has similar distributions in both classes, it will be removed. \r\n",
        "However, if it is redundant because it is similar to another feature, but \r\n",
        "does have a different distribution in both classes, it will not be removed.\r\n"
      ]
    },
    {
      "cell_type": "code",
      "metadata": {
        "id": "EE64nlajdhap"
      },
      "source": [
        "# You can apply the found feature selection method through the transform function\r\n",
        "X1 = selector.transform(X1)"
      ],
      "execution_count": 43,
      "outputs": []
    },
    {
      "cell_type": "markdown",
      "metadata": {
        "id": "Ep2MIpZNdmTu"
      },
      "source": [
        "Note: if you remove features values, also make sure you remove the corresponding\r\n",
        "feature labels! You can use the same transform function for this.\r\n"
      ]
    },
    {
      "cell_type": "markdown",
      "metadata": {
        "id": "M4kBIGitdnMl"
      },
      "source": [
        "## Exercise 5: Feature selection\r\n",
        "\r\n",
        "- **Hand-In Code**: all.\r\n",
        "- **Hand-In Answers**: The generated plots and answers to the questions.\r\n",
        "\r\n",
        "1. You are going to apply feature selection to the LGG dataset. **Question:** Which \r\n",
        "  parameters will you use, e.g. p-value threshold and yes/no Bonferonni correction?\r\n",
        "  The StatisticalTestThreshold can also apply a Student t-test, Welch t-test, or\r\n",
        "  Wilcoxon signed-rank test. Why is the Mann-Whitney U test most suitable here?\r\n",
        "  The descriptions on Wikipedia of these tests can be helpful. \r\n",
        "\r\n",
        "Hint: look at what distributions the tests assume, whether they are paired\r\n",
        "  or not, and parametric or non-parametric. \r\n",
        "    \r\n",
        "2. Fit a selector to your features, both T1 and T2. Look at the p-values\r\n",
        "  and which features get selected. **Question:** What do you think of the results? Did\r\n",
        "  these features correspond with your hypothesis? What kind of imaging\r\n",
        "  characteristics do these features correspond to? Do you think these\r\n",
        "  features are good features? You picked a specific segmentation: do\r\n",
        "  you think these features will server from observer variations if the\r\n",
        "  segmentation if you would let a another radiologist perform the same type\r\n",
        "  of segmentation? Do you think your features may be biased through the\r\n",
        "  segmentation protocol?\r\n",
        "\r\n",
        "3. To prepare for the next exercise, create a dataset on which you apply\r\n",
        "  the transform for the selector, both on the features and the labels. Make\r\n",
        "  sure you save this as separate variables, as you will also need the \r\n",
        "  \"Unselected\" dataset.    "
      ]
    },
    {
      "cell_type": "code",
      "metadata": {
        "id": "C5oDF99zzmOu"
      },
      "source": [
        "# Room for your code for exercise 5"
      ],
      "execution_count": null,
      "outputs": []
    },
    {
      "cell_type": "markdown",
      "metadata": {
        "id": "lHCTcSZUen21"
      },
      "source": [
        "# An introduction to machine learning with Python\r\n",
        "The default package for machine learning in Python is called scikit-learn\r\n",
        "or sklearn for short. In the TM10007 Machine Learning course, you will \r\n",
        "learn much more about what this package has to offer. Here, we will just use\r\n",
        "a very small amount of the routines."
      ]
    },
    {
      "cell_type": "code",
      "metadata": {
        "id": "vTEJ_hD3dkdl"
      },
      "source": [
        "# Let's make a dataset with only two features, which is easier for plotting\r\n",
        "X1, Y1 = ds.make_classification(n_samples=100, n_features=2, n_redundant=0,\r\n",
        "                                n_informative=2,\r\n",
        "                                n_clusters_per_class=1)"
      ],
      "execution_count": 11,
      "outputs": []
    },
    {
      "cell_type": "markdown",
      "metadata": {
        "id": "MhJYsh5MesJi"
      },
      "source": [
        "The results are the features (X1, 2 per object in this case) and the labels.\r\n",
        "Note the parameters used to create the sample. The function has a random\r\n",
        "aspect, hence you will get a different result every time you run it. "
      ]
    },
    {
      "cell_type": "code",
      "metadata": {
        "colab": {
          "base_uri": "https://localhost:8080/",
          "height": 514
        },
        "id": "43OEU1cBerHF",
        "outputId": "114bd830-f56b-4c62-ee33-b1d9f3da6c0f"
      },
      "source": [
        "# Now let's make a scatterplot of the features:\r\n",
        "fig = plt.figure(figsize=(8, 8))\r\n",
        "ax = fig.add_subplot(111)\r\n",
        "ax.set_title(\"Two informative features, one cluster per class\",\r\n",
        "             fontsize='small')\r\n",
        "ax.scatter(X1[:, 0], X1[:, 1], marker='o', c=Y1,\r\n",
        "           s=25, edgecolor='k', cmap=plt.cm.Paired)"
      ],
      "execution_count": 46,
      "outputs": [
        {
          "output_type": "execute_result",
          "data": {
            "text/plain": [
              "<matplotlib.collections.PathCollection at 0x7fd337edcf90>"
            ]
          },
          "metadata": {
            "tags": []
          },
          "execution_count": 46
        },
        {
          "output_type": "display_data",
          "data": {
            "image/png": "[encoded data removed]",
            "text/plain": [
              "<Figure size 576x576 with 1 Axes>"
            ]
          },
          "metadata": {
            "tags": [],
            "needs_background": "light"
          }
        }
      ]
    },
    {
      "cell_type": "markdown",
      "metadata": {
        "id": "C4Wh08SHeyVz"
      },
      "source": [
        "These features are highly distinctive: hence it should be easy to split\r\n",
        "the classes. Let's therefore start out with a simple classifier:\r\n",
        "the Minimum Distance classifier, as we saw in the lecture."
      ]
    },
    {
      "cell_type": "code",
      "metadata": {
        "id": "-fSxgUs5ewd3"
      },
      "source": [
        "classifier = MinimumDistance()"
      ],
      "execution_count": 13,
      "outputs": []
    },
    {
      "cell_type": "markdown",
      "metadata": {
        "id": "p7yf9Mb8e1cH"
      },
      "source": [
        "The classifiers share many of the same attributes in sklearn.\r\n",
        "One of the default functions is the ```fit``` function, which fits the\r\n",
        "classifier using features and labels. This will result in a\r\n",
        "fitted classifier. "
      ]
    },
    {
      "cell_type": "code",
      "metadata": {
        "colab": {
          "base_uri": "https://localhost:8080/"
        },
        "id": "LhNphEwbe0M4",
        "outputId": "90c4a72a-899a-4353-ed69-6a069adea7e6"
      },
      "source": [
        "# Let's try it on our example dataset:\r\n",
        "classifier.fit(X1, Y1)"
      ],
      "execution_count": 14,
      "outputs": [
        {
          "output_type": "execute_result",
          "data": {
            "text/plain": [
              "NearestCentroid(metric='euclidean', shrink_threshold=None)"
            ]
          },
          "metadata": {
            "tags": []
          },
          "execution_count": 14
        }
      ]
    },
    {
      "cell_type": "markdown",
      "metadata": {
        "id": "L6vWcj1wfAZe"
      },
      "source": [
        "The fitted classifier can be used to predict the labels on features of\r\n",
        "another object or patient. You can hereby use your trained classifiers\r\n",
        "on other datasets. For now, let's just use it again on the training set.\r\n",
        "The result will in this case be predicted binary labels, as we\r\n",
        "trained a binary classifier"
      ]
    },
    {
      "cell_type": "code",
      "metadata": {
        "colab": {
          "base_uri": "https://localhost:8080/",
          "height": 518
        },
        "id": "cDJZcJELfCsf",
        "outputId": "da784794-367e-449f-f389-3849eeac57ab"
      },
      "source": [
        "# Make a prediction\r\n",
        "y_pred = classifier.predict(X1)\r\n",
        "\r\n",
        "# Let's see how well our classifier performed. We wrote a functions that\r\n",
        "# overlays the decision boundary with a color plot. Also, let's print\r\n",
        "# the total number of misclassifications\r\n",
        "fig = plt.figure(figsize=(8, 8))\r\n",
        "ax = fig.add_subplot(111)\r\n",
        "aip.other.colorplot(classifier, ax, X1[:, 0], X1[:, 1])\r\n",
        "print(\"Number of mislabeled points out of a total %d points : %d\" % (X1.shape[0], (Y1 != y_pred).sum()))\r\n"
      ],
      "execution_count": 15,
      "outputs": [
        {
          "output_type": "stream",
          "text": [
            "0.1627529024676888\n",
            "Number of mislabeled points out of a total 100 points : 13\n"
          ],
          "name": "stdout"
        },
        {
          "output_type": "display_data",
          "data": {
            "image/png": "[encoded data removed]",
            "text/plain": [
              "<Figure size 576x576 with 1 Axes>"
            ]
          },
          "metadata": {
            "tags": [],
            "needs_background": "light"
          }
        }
      ]
    },
    {
      "cell_type": "markdown",
      "metadata": {
        "id": "kFn_jZ3JfGFp"
      },
      "source": [
        "Hopefully, your classifier performed well enough."
      ]
    },
    {
      "cell_type": "markdown",
      "metadata": {
        "id": "WBLyKWQbfHw2"
      },
      "source": [
        "## Feature preprocessing\r\n",
        "Note that all features have a different range: one might be between 0 and 1,\r\n",
        "another between 1E6 and 1E7. The minimumdistance classifier will negate\r\n",
        "these small features, while they may be important. Hence, before you apply\r\n",
        "the classifier to your own feautures, scale them to the same range. For\r\n",
        "that purpose, we can apply normalization through z-scoring, as we also\r\n",
        "did for the images. You will learn more about this in the machine learning\r\n",
        "course: for now, just make sure you apply it before classification!\r\n"
      ]
    },
    {
      "cell_type": "code",
      "metadata": {
        "id": "gN1RvyzlfLTW"
      },
      "source": [
        "# Usage is again through the fit-transform construction.\r\n",
        "scaler = StandardScaler()\r\n",
        "scaler.fit(X1)\r\n",
        "X1 = scaler.transform(X1)"
      ],
      "execution_count": 16,
      "outputs": []
    },
    {
      "cell_type": "markdown",
      "metadata": {
        "id": "6vL7uLB6fMhp"
      },
      "source": [
        "As the features from the make_classification function are properly scaled,\r\n",
        "it won't make so much of a difference there."
      ]
    },
    {
      "cell_type": "markdown",
      "metadata": {
        "id": "c_t4_dDJzU6H"
      },
      "source": [
        "## Exercise 6: Machine learning for radiomics\r\n",
        "\r\n",
        "- **Hand-In Code**: all.\r\n",
        "- **Hand-In Answers**: The generated plots and answers to the questions.\r\n",
        "\r\n",
        "1. Apply, i.e. train and test/predict, the MinimumDistance classifier to \r\n",
        "  your feature selected dataset. **Question:** How does it perform? Which patients\r\n",
        "  did go wrong: what do you notice? What would you \r\n",
        "  suggest to improve the performance?\r\n",
        "    \r\n",
        "2. Apply the MinimumDistance classifier to your dataset without feature\r\n",
        "  selection. **Question:** What happens? Why? "
      ]
    },
    {
      "cell_type": "code",
      "metadata": {
        "id": "J2Wsf7sfziBw"
      },
      "source": [
        "dataset=np.array([list(i.values()) for i in image_features])\n",
        "labels=np.array(list(LGG_labels.values()))\n",
        "x_train,x_test,y_train,y_test=train_test_split(dataset,labels)\n",
        "\n",
        "scaler = StandardScaler()\n",
        "scaled_x_train=scaler.fit_transform(x_train)\n",
        "scaled_x_test = scaler.transform(x_test)\n",
        "\n",
        "classifier = MinimumDistance()\n",
        "classifier.fit(scaled_x_train, y_train)\n",
        "\n",
        "y_pred = classifier.predict(scaled_x_test)\n",
        "\n",
        "\n"
      ],
      "execution_count": 71,
      "outputs": []
    },
    {
      "cell_type": "markdown",
      "metadata": {
        "id": "bKO6aHVLzapA"
      },
      "source": [
        "## Exercise 7: Evaluation\r\n",
        "\r\n",
        "- **Hand-In Code**: all.\r\n",
        "- **Hand-In Answers**: The generated plots and answers to the questions.\r\n",
        "\r\n",
        "You probably got a very good performance in your previous exercise, both\r\n",
        "with and without feature selection. However, we were overfitting: we used\r\n",
        "the same samples for both training and testing. Let's now use a\r\n",
        "k-fold cross-validation, which in sklearn is implemented in the KFold object.\r\n"
      ]
    },
    {
      "cell_type": "code",
      "metadata": {
        "id": "vFl_Tc50zznC"
      },
      "source": [
        "crossvalidation = KFold()"
      ],
      "execution_count": null,
      "outputs": []
    },
    {
      "cell_type": "markdown",
      "metadata": {
        "id": "ZtPEZtqfz1ya"
      },
      "source": [
        "1. **Question:** Which numer of splits would you use here and why?\r\n",
        "\r\n",
        "2. Implement the cross-validation: for help, look into the sklearn online\r\n",
        "  documentation. **Question:** Which parts of the method from above\r\n",
        "  do need to be fit on the training dataset only? Compute again the total\r\n",
        "  number of mislabeled points, both with and without feature selection. How\r\n",
        "  do the results compare to the previous exercise?\r\n",
        "\r\n",
        "3. Earlier on, in exercise 2, you were required to pick one (or multiple) segmentations \r\n",
        "  from which you extracted the features and made a hypothesis why that\r\n",
        "  was a good choice. **Question:** What do you think know: was that indeed a good choice?\r\n",
        "  Why (not)?"
      ]
    },
    {
      "cell_type": "code",
      "metadata": {
        "id": "cZFjyQ2Yz3Kq"
      },
      "source": [
        "# Room for your code for exercise 7"
      ],
      "execution_count": null,
      "outputs": []
    }
  ]
}